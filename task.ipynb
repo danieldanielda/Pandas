{
 "cells": [
  {
   "cell_type": "code",
   "execution_count": null,
   "id": "a12271a8",
   "metadata": {},
   "outputs": [],
   "source": [
    "import pandas as pd\n",
    "import seaborn as sns"
   ]
  },
  {
   "cell_type": "code",
   "execution_count": null,
   "id": "f2fd8ef7",
   "metadata": {},
   "outputs": [],
   "source": [
    "lectures_df = pd.read_csv('lectures.csv')\n",
    "lectures_df "
   ]
  },
  {
   "cell_type": "code",
   "execution_count": null,
   "id": "35119587",
   "metadata": {},
   "outputs": [],
   "source": [
    "questions_df = pd.read_csv('questions.csv')\n",
    "questions_df"
   ]
  },
  {
   "cell_type": "code",
   "execution_count": null,
   "id": "c060d35f",
   "metadata": {},
   "outputs": [],
   "source": [
    "lectures_df.shape"
   ]
  },
  {
   "cell_type": "code",
   "execution_count": null,
   "id": "be11049c",
   "metadata": {},
   "outputs": [],
   "source": [
    "questions_df.shape"
   ]
  },
  {
   "cell_type": "code",
   "execution_count": null,
   "id": "1d2491ef",
   "metadata": {},
   "outputs": [],
   "source": [
    "lectures_df.isna().sum()"
   ]
  },
  {
   "cell_type": "code",
   "execution_count": null,
   "id": "da0db018",
   "metadata": {},
   "outputs": [],
   "source": [
    "questions_df.isna().sum()"
   ]
  },
  {
   "cell_type": "code",
   "execution_count": null,
   "id": "8cc131be",
   "metadata": {},
   "outputs": [],
   "source": [
    "questions_df.dropna(inplace = True)"
   ]
  },
  {
   "cell_type": "code",
   "execution_count": null,
   "id": "c3e512d5",
   "metadata": {},
   "outputs": [],
   "source": [
    "lectures_df.describe()"
   ]
  },
  {
   "cell_type": "code",
   "execution_count": null,
   "id": "c7f26469",
   "metadata": {},
   "outputs": [],
   "source": [
    "questions_df.describe()"
   ]
  },
  {
   "cell_type": "code",
   "execution_count": null,
   "id": "f981cb91",
   "metadata": {},
   "outputs": [],
   "source": [
    "lectures_df.info()"
   ]
  },
  {
   "cell_type": "code",
   "execution_count": null,
   "id": "c4e95902",
   "metadata": {},
   "outputs": [],
   "source": [
    "questions_df.info()"
   ]
  },
  {
   "cell_type": "code",
   "execution_count": null,
   "id": "b0668ba3",
   "metadata": {},
   "outputs": [],
   "source": [
    "lectures_df[['type_of','part','lecture_id']].groupby(['type_of','part'], as_index = False).count().sort_values(by=['type_of', 'part'])"
   ]
  },
  {
   "cell_type": "code",
   "execution_count": null,
   "id": "09e38122",
   "metadata": {},
   "outputs": [],
   "source": [
    "questions_df[['part','question_id']].groupby(['part'], as_index=False).count()"
   ]
  },
  {
   "cell_type": "code",
   "execution_count": null,
   "id": "4c1aeb0a",
   "metadata": {},
   "outputs": [],
   "source": [
    "colors = ['blue']\n",
    "sns.histplot(data=lectures_df,x = 'part', bins=7,hue = 'type_of')"
   ]
  },
  {
   "cell_type": "code",
   "execution_count": null,
   "id": "e4ed5030",
   "metadata": {},
   "outputs": [],
   "source": [
    "sns.histplot(data=questions_df, x = 'part', bins=7)"
   ]
  },
  {
   "cell_type": "code",
   "execution_count": null,
   "id": "d9f43d26",
   "metadata": {},
   "outputs": [],
   "source": [
    "#TRAIN"
   ]
  },
  {
   "cell_type": "code",
   "execution_count": null,
   "id": "0ee63506",
   "metadata": {},
   "outputs": [],
   "source": [
    "train_df = pd.read_csv('train.csv')"
   ]
  },
  {
   "cell_type": "code",
   "execution_count": null,
   "id": "a0a52c7b",
   "metadata": {},
   "outputs": [],
   "source": [
    "train_df"
   ]
  },
  {
   "cell_type": "code",
   "execution_count": null,
   "id": "5f169b2c",
   "metadata": {},
   "outputs": [],
   "source": [
    "train_df.describe()"
   ]
  },
  {
   "cell_type": "code",
   "execution_count": null,
   "id": "bc007afc",
   "metadata": {},
   "outputs": [],
   "source": [
    "train_df.info()"
   ]
  },
  {
   "cell_type": "code",
   "execution_count": null,
   "id": "3725d6ff",
   "metadata": {},
   "outputs": [],
   "source": [
    "train_df.agg({'user_id' : pd.Series.nunique})\n"
   ]
  },
  {
   "cell_type": "code",
   "execution_count": null,
   "id": "156024b9",
   "metadata": {},
   "outputs": [],
   "source": [
    "train_df.corr()"
   ]
  },
  {
   "cell_type": "code",
   "execution_count": null,
   "id": "c92632c9",
   "metadata": {},
   "outputs": [],
   "source": [
    "user_answer  = train_df[['user_id', 'user_answer', 'answered_correctly']]\\\n",
    ".groupby(['user_id'], as_index = False).sum()"
   ]
  },
  {
   "cell_type": "code",
   "execution_count": null,
   "id": "e177b335",
   "metadata": {},
   "outputs": [],
   "source": [
    "def elimination(df,col,n_std):\n",
    "        mean = df[col].mean()\n",
    "        sd = df[col].std()\n",
    "        \n",
    "        df = df[(df[col] <= mean+(n_std*sd))]\n",
    "        \n",
    "        return df\n",
    "\n",
    "user_answer = elimination(user_answer, 'user_answer', 1)\n",
    "\n",
    "user_answer['cor'] = user_answer['answered_correctly']/user_answer['user_answer']\n",
    "user_answer.rename(columns={'user_answer':'number_of_answers_per_user'}, inplace=True)\n",
    "user_answer.describe()\n"
   ]
  },
  {
   "cell_type": "code",
   "execution_count": null,
   "id": "96e88cda",
   "metadata": {},
   "outputs": [],
   "source": [
    "print(user_answer.number_of_answers_per_user.median())\n",
    "sns.histplot(data = user_answer, x = 'number_of_answers_per_user')"
   ]
  },
  {
   "cell_type": "code",
   "execution_count": null,
   "id": "dbfae44a",
   "metadata": {},
   "outputs": [],
   "source": [
    "sns.histplot(data = user_answer, x = 'number_of_answers_per_user')"
   ]
  },
  {
   "cell_type": "code",
   "execution_count": null,
   "id": "9d5a8ea5",
   "metadata": {},
   "outputs": [],
   "source": [
    "\n",
    "print(user_answer.query('number_of_answers_per_user > 55')['cor'].median())\n",
    "user_answer.query('number_of_answers_per_user > 55')['cor'].hist(bins=50)\n",
    "     "
   ]
  },
  {
   "cell_type": "code",
   "execution_count": null,
   "id": "e166d633",
   "metadata": {},
   "outputs": [],
   "source": [
    "print(user_answer.query('number_of_answers_per_user > 151')['cor'].median())\n",
    "user_answer.query('number_of_answers_per_user > 151')['cor'].hist(bins=50)"
   ]
  },
  {
   "cell_type": "code",
   "execution_count": null,
   "id": "d6b8aa8a",
   "metadata": {},
   "outputs": [],
   "source": [
    "print(user_answer.query('number_of_answers_per_user > 500')['cor'].median())\n",
    "user_answer.query('number_of_answers_per_user > 500')['cor'].hist(bins=50)"
   ]
  },
  {
   "cell_type": "code",
   "execution_count": null,
   "id": "8e4c0805",
   "metadata": {},
   "outputs": [],
   "source": [
    "print(user_answer.query('number_of_answers_per_user <=50')['cor'].median())"
   ]
  },
  {
   "cell_type": "code",
   "execution_count": null,
   "id": "90ffe54e",
   "metadata": {},
   "outputs": [],
   "source": [
    "corr = train_df[['user_id', 'user_answer', 'answered_correctly', 'prior_question_elapsed_time']].groupby(['user_id'], as_index = False).sum()"
   ]
  },
  {
   "cell_type": "code",
   "execution_count": null,
   "id": "198c835a",
   "metadata": {},
   "outputs": [],
   "source": [
    "corr['prior_question_elapsed_time'] = corr['prior_question_elapsed_time']/corr['user_answer']"
   ]
  },
  {
   "cell_type": "code",
   "execution_count": null,
   "id": "5042d68e",
   "metadata": {},
   "outputs": [],
   "source": [
    "corr['answered_correctly'] = corr['answered_correctly']/corr['user_answer']"
   ]
  },
  {
   "cell_type": "code",
   "execution_count": null,
   "id": "44ed152a",
   "metadata": {},
   "outputs": [],
   "source": [
    "corr.drop('user_id', axis =1, inplace = True)"
   ]
  },
  {
   "cell_type": "code",
   "execution_count": null,
   "id": "884932b8",
   "metadata": {},
   "outputs": [],
   "source": [
    "corr = elimination(corr, 'user_answer', 1)"
   ]
  },
  {
   "cell_type": "code",
   "execution_count": null,
   "id": "294482bf",
   "metadata": {},
   "outputs": [],
   "source": [
    "corr.rename(columns = {'user_answer':'number_of_answers_per_user'}, inplace = True)\n",
    "corr"
   ]
  },
  {
   "cell_type": "code",
   "execution_count": null,
   "id": "a1ba5fbb",
   "metadata": {},
   "outputs": [],
   "source": [
    "\n",
    "sns.scatterplot(data = corr, x ='number_of_answers_per_user',\\\n",
    "                        y = 'answered_correctly' )"
   ]
  },
  {
   "cell_type": "code",
   "execution_count": null,
   "id": "06633b99",
   "metadata": {},
   "outputs": [],
   "source": [
    "\n",
    "sns.regplot(data = corr, x ='prior_question_elapsed_time', y = 'answered_correctly' )"
   ]
  },
  {
   "cell_type": "code",
   "execution_count": null,
   "id": "4c4fb3d0",
   "metadata": {},
   "outputs": [],
   "source": []
  }
 ],
 "metadata": {
  "kernelspec": {
   "display_name": "Python 3 (ipykernel)",
   "language": "python",
   "name": "python3"
  },
  "language_info": {
   "codemirror_mode": {
    "name": "ipython",
    "version": 3
   },
   "file_extension": ".py",
   "mimetype": "text/x-python",
   "name": "python",
   "nbconvert_exporter": "python",
   "pygments_lexer": "ipython3",
   "version": "3.9.6"
  }
 },
 "nbformat": 4,
 "nbformat_minor": 5
}
